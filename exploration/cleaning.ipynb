{
 "cells": [
  {
   "cell_type": "markdown",
   "metadata": {},
   "source": [
    "### Prepare clean data"
   ]
  },
  {
   "cell_type": "code",
   "execution_count": 301,
   "metadata": {},
   "outputs": [],
   "source": [
    "import pandas as pd \n",
    "import datetime as dt"
   ]
  },
  {
   "cell_type": "code",
   "execution_count": 482,
   "metadata": {},
   "outputs": [],
   "source": [
    "pd.set_option('display.max_colwidth', None)"
   ]
  },
  {
   "cell_type": "code",
   "execution_count": 302,
   "metadata": {},
   "outputs": [],
   "source": [
    "df = pd.read_csv('/Users/nathanjones/Downloads/EDA_p2/data/wtc_sprint_data/all_wtc_sprint_results.csv')"
   ]
  },
  {
   "cell_type": "code",
   "execution_count": 303,
   "metadata": {},
   "outputs": [],
   "source": [
    "#times to floats for sums and viz\n",
    "df.drop(df.loc[df.POS.isin(['DNF', 'DNS'])].index, inplace=True)\n",
    "\n",
    "cols_to_change_timedelta = ['Swim','T1', 'Bike', 'T2', 'Run', 'Time']\n",
    "for col in cols_to_change_timedelta:\n",
    "    df[col] = pd.to_timedelta(df[col]).dt.total_seconds()\n",
    "\n",
    "#df['Time_format'] = pd.to_datetime(df['Time_in_seconds'], unit='s').dt.strftime('%H:%M:%S')\n"
   ]
  },
  {
   "cell_type": "code",
   "execution_count": 304,
   "metadata": {},
   "outputs": [],
   "source": [
    "#Age (all relative, calculated dynamically from current date)\n",
    "\n",
    "today = dt.date.today()\n",
    "current_year = today.year\n",
    "df['Age'] = current_year - df['YOB']\n"
   ]
  },
  {
   "cell_type": "code",
   "execution_count": 305,
   "metadata": {},
   "outputs": [],
   "source": [
    "#dropping 0 times, which missed null check. \n",
    "df.drop(df.loc[df.Bike == df.Bike.min()].index, inplace=True)\n"
   ]
  },
  {
   "cell_type": "code",
   "execution_count": 306,
   "metadata": {},
   "outputs": [],
   "source": [
    "#renaming Time col to Total_Time\n",
    "df.rename(columns={'Time':'Total_Time'}, inplace=True)"
   ]
  },
  {
   "cell_type": "markdown",
   "metadata": {},
   "source": [
    "### Show me some Summary Stats"
   ]
  },
  {
   "cell_type": "code",
   "execution_count": 307,
   "metadata": {},
   "outputs": [
    {
     "name": "stdout",
     "output_type": "stream",
     "text": [
      "<class 'pandas.core.frame.DataFrame'>\n",
      "Index: 778 entries, 0 to 794\n",
      "Data columns (total 14 columns):\n",
      " #   Column      Non-Null Count  Dtype  \n",
      "---  ------      --------------  -----  \n",
      " 0   POS         778 non-null    object \n",
      " 1   First Name  778 non-null    object \n",
      " 2   Last Name   778 non-null    object \n",
      " 3   Nation      778 non-null    object \n",
      " 4   YOB         778 non-null    int64  \n",
      " 5   Start No.   778 non-null    int64  \n",
      " 6   Swim        778 non-null    float64\n",
      " 7   T1          778 non-null    float64\n",
      " 8   Bike        778 non-null    float64\n",
      " 9   T2          778 non-null    float64\n",
      " 10  Run         778 non-null    float64\n",
      " 11  Total_Time  778 non-null    float64\n",
      " 12  Gender      778 non-null    object \n",
      " 13  Age         778 non-null    int64  \n",
      "dtypes: float64(6), int64(3), object(5)\n",
      "memory usage: 91.2+ KB\n"
     ]
    }
   ],
   "source": [
    "df.info()"
   ]
  },
  {
   "cell_type": "code",
   "execution_count": 308,
   "metadata": {},
   "outputs": [
    {
     "data": {
      "text/html": [
       "<div>\n",
       "<style scoped>\n",
       "    .dataframe tbody tr th:only-of-type {\n",
       "        vertical-align: middle;\n",
       "    }\n",
       "\n",
       "    .dataframe tbody tr th {\n",
       "        vertical-align: top;\n",
       "    }\n",
       "\n",
       "    .dataframe thead th {\n",
       "        text-align: right;\n",
       "    }\n",
       "</style>\n",
       "<table border=\"1\" class=\"dataframe\">\n",
       "  <thead>\n",
       "    <tr style=\"text-align: right;\">\n",
       "      <th></th>\n",
       "      <th>YOB</th>\n",
       "      <th>Start No.</th>\n",
       "      <th>Swim</th>\n",
       "      <th>T1</th>\n",
       "      <th>Bike</th>\n",
       "      <th>T2</th>\n",
       "      <th>Run</th>\n",
       "      <th>Total_Time</th>\n",
       "      <th>Age</th>\n",
       "    </tr>\n",
       "  </thead>\n",
       "  <tbody>\n",
       "    <tr>\n",
       "      <th>count</th>\n",
       "      <td>778.000000</td>\n",
       "      <td>778.000000</td>\n",
       "      <td>778.000000</td>\n",
       "      <td>778.000000</td>\n",
       "      <td>778.000000</td>\n",
       "      <td>778.00000</td>\n",
       "      <td>778.000000</td>\n",
       "      <td>778.000000</td>\n",
       "      <td>778.000000</td>\n",
       "    </tr>\n",
       "    <tr>\n",
       "      <th>mean</th>\n",
       "      <td>1995.390746</td>\n",
       "      <td>28.930591</td>\n",
       "      <td>563.164524</td>\n",
       "      <td>59.597686</td>\n",
       "      <td>1802.386889</td>\n",
       "      <td>27.12982</td>\n",
       "      <td>986.178663</td>\n",
       "      <td>3436.861183</td>\n",
       "      <td>29.609254</td>\n",
       "    </tr>\n",
       "    <tr>\n",
       "      <th>std</th>\n",
       "      <td>3.691308</td>\n",
       "      <td>16.768860</td>\n",
       "      <td>31.966620</td>\n",
       "      <td>25.335257</td>\n",
       "      <td>119.412820</td>\n",
       "      <td>6.11430</td>\n",
       "      <td>75.560132</td>\n",
       "      <td>202.627741</td>\n",
       "      <td>3.691308</td>\n",
       "    </tr>\n",
       "    <tr>\n",
       "      <th>min</th>\n",
       "      <td>1982.000000</td>\n",
       "      <td>1.000000</td>\n",
       "      <td>482.000000</td>\n",
       "      <td>28.000000</td>\n",
       "      <td>1565.000000</td>\n",
       "      <td>17.00000</td>\n",
       "      <td>820.000000</td>\n",
       "      <td>3003.000000</td>\n",
       "      <td>20.000000</td>\n",
       "    </tr>\n",
       "    <tr>\n",
       "      <th>25%</th>\n",
       "      <td>1993.000000</td>\n",
       "      <td>15.000000</td>\n",
       "      <td>540.000000</td>\n",
       "      <td>38.000000</td>\n",
       "      <td>1729.250000</td>\n",
       "      <td>23.00000</td>\n",
       "      <td>922.000000</td>\n",
       "      <td>3261.000000</td>\n",
       "      <td>27.000000</td>\n",
       "    </tr>\n",
       "    <tr>\n",
       "      <th>50%</th>\n",
       "      <td>1996.000000</td>\n",
       "      <td>29.000000</td>\n",
       "      <td>560.000000</td>\n",
       "      <td>57.500000</td>\n",
       "      <td>1790.500000</td>\n",
       "      <td>25.00000</td>\n",
       "      <td>989.500000</td>\n",
       "      <td>3438.000000</td>\n",
       "      <td>29.000000</td>\n",
       "    </tr>\n",
       "    <tr>\n",
       "      <th>75%</th>\n",
       "      <td>1998.000000</td>\n",
       "      <td>43.000000</td>\n",
       "      <td>588.750000</td>\n",
       "      <td>74.000000</td>\n",
       "      <td>1895.000000</td>\n",
       "      <td>32.00000</td>\n",
       "      <td>1038.000000</td>\n",
       "      <td>3595.000000</td>\n",
       "      <td>32.000000</td>\n",
       "    </tr>\n",
       "    <tr>\n",
       "      <th>max</th>\n",
       "      <td>2005.000000</td>\n",
       "      <td>64.000000</td>\n",
       "      <td>647.000000</td>\n",
       "      <td>132.000000</td>\n",
       "      <td>2192.000000</td>\n",
       "      <td>46.00000</td>\n",
       "      <td>1310.000000</td>\n",
       "      <td>4026.000000</td>\n",
       "      <td>43.000000</td>\n",
       "    </tr>\n",
       "  </tbody>\n",
       "</table>\n",
       "</div>"
      ],
      "text/plain": [
       "               YOB   Start No.        Swim          T1         Bike  \\\n",
       "count   778.000000  778.000000  778.000000  778.000000   778.000000   \n",
       "mean   1995.390746   28.930591  563.164524   59.597686  1802.386889   \n",
       "std       3.691308   16.768860   31.966620   25.335257   119.412820   \n",
       "min    1982.000000    1.000000  482.000000   28.000000  1565.000000   \n",
       "25%    1993.000000   15.000000  540.000000   38.000000  1729.250000   \n",
       "50%    1996.000000   29.000000  560.000000   57.500000  1790.500000   \n",
       "75%    1998.000000   43.000000  588.750000   74.000000  1895.000000   \n",
       "max    2005.000000   64.000000  647.000000  132.000000  2192.000000   \n",
       "\n",
       "              T2          Run   Total_Time         Age  \n",
       "count  778.00000   778.000000   778.000000  778.000000  \n",
       "mean    27.12982   986.178663  3436.861183   29.609254  \n",
       "std      6.11430    75.560132   202.627741    3.691308  \n",
       "min     17.00000   820.000000  3003.000000   20.000000  \n",
       "25%     23.00000   922.000000  3261.000000   27.000000  \n",
       "50%     25.00000   989.500000  3438.000000   29.000000  \n",
       "75%     32.00000  1038.000000  3595.000000   32.000000  \n",
       "max     46.00000  1310.000000  4026.000000   43.000000  "
      ]
     },
     "execution_count": 308,
     "metadata": {},
     "output_type": "execute_result"
    }
   ],
   "source": [
    "df.describe()"
   ]
  },
  {
   "cell_type": "code",
   "execution_count": 309,
   "metadata": {},
   "outputs": [
    {
     "data": {
      "text/html": [
       "<div>\n",
       "<style scoped>\n",
       "    .dataframe tbody tr th:only-of-type {\n",
       "        vertical-align: middle;\n",
       "    }\n",
       "\n",
       "    .dataframe tbody tr th {\n",
       "        vertical-align: top;\n",
       "    }\n",
       "\n",
       "    .dataframe thead th {\n",
       "        text-align: right;\n",
       "    }\n",
       "</style>\n",
       "<table border=\"1\" class=\"dataframe\">\n",
       "  <thead>\n",
       "    <tr style=\"text-align: right;\">\n",
       "      <th></th>\n",
       "      <th>YOB</th>\n",
       "      <th>Start No.</th>\n",
       "      <th>Swim</th>\n",
       "      <th>T1</th>\n",
       "      <th>Bike</th>\n",
       "      <th>T2</th>\n",
       "      <th>Run</th>\n",
       "      <th>Total_Time</th>\n",
       "      <th>Age</th>\n",
       "    </tr>\n",
       "  </thead>\n",
       "  <tbody>\n",
       "    <tr>\n",
       "      <th>count</th>\n",
       "      <td>394.000000</td>\n",
       "      <td>394.000000</td>\n",
       "      <td>394.000000</td>\n",
       "      <td>394.000000</td>\n",
       "      <td>394.000000</td>\n",
       "      <td>394.000000</td>\n",
       "      <td>394.000000</td>\n",
       "      <td>394.000000</td>\n",
       "      <td>394.000000</td>\n",
       "    </tr>\n",
       "    <tr>\n",
       "      <th>mean</th>\n",
       "      <td>1995.720812</td>\n",
       "      <td>29.652284</td>\n",
       "      <td>539.954315</td>\n",
       "      <td>57.119289</td>\n",
       "      <td>1719.614213</td>\n",
       "      <td>26.121827</td>\n",
       "      <td>931.994924</td>\n",
       "      <td>3273.266497</td>\n",
       "      <td>29.279188</td>\n",
       "    </tr>\n",
       "    <tr>\n",
       "      <th>std</th>\n",
       "      <td>3.422456</td>\n",
       "      <td>17.432484</td>\n",
       "      <td>19.603914</td>\n",
       "      <td>23.718525</td>\n",
       "      <td>75.842266</td>\n",
       "      <td>6.023734</td>\n",
       "      <td>56.605370</td>\n",
       "      <td>111.737959</td>\n",
       "      <td>3.422456</td>\n",
       "    </tr>\n",
       "    <tr>\n",
       "      <th>min</th>\n",
       "      <td>1986.000000</td>\n",
       "      <td>1.000000</td>\n",
       "      <td>482.000000</td>\n",
       "      <td>28.000000</td>\n",
       "      <td>1565.000000</td>\n",
       "      <td>17.000000</td>\n",
       "      <td>820.000000</td>\n",
       "      <td>3003.000000</td>\n",
       "      <td>20.000000</td>\n",
       "    </tr>\n",
       "    <tr>\n",
       "      <th>25%</th>\n",
       "      <td>1994.000000</td>\n",
       "      <td>15.000000</td>\n",
       "      <td>531.250000</td>\n",
       "      <td>36.250000</td>\n",
       "      <td>1657.250000</td>\n",
       "      <td>22.000000</td>\n",
       "      <td>895.000000</td>\n",
       "      <td>3218.000000</td>\n",
       "      <td>27.000000</td>\n",
       "    </tr>\n",
       "    <tr>\n",
       "      <th>50%</th>\n",
       "      <td>1996.000000</td>\n",
       "      <td>29.500000</td>\n",
       "      <td>541.000000</td>\n",
       "      <td>57.000000</td>\n",
       "      <td>1732.000000</td>\n",
       "      <td>23.000000</td>\n",
       "      <td>922.000000</td>\n",
       "      <td>3261.500000</td>\n",
       "      <td>29.000000</td>\n",
       "    </tr>\n",
       "    <tr>\n",
       "      <th>75%</th>\n",
       "      <td>1998.000000</td>\n",
       "      <td>44.750000</td>\n",
       "      <td>554.000000</td>\n",
       "      <td>73.000000</td>\n",
       "      <td>1756.000000</td>\n",
       "      <td>31.750000</td>\n",
       "      <td>956.000000</td>\n",
       "      <td>3324.750000</td>\n",
       "      <td>31.000000</td>\n",
       "    </tr>\n",
       "    <tr>\n",
       "      <th>max</th>\n",
       "      <td>2005.000000</td>\n",
       "      <td>64.000000</td>\n",
       "      <td>580.000000</td>\n",
       "      <td>111.000000</td>\n",
       "      <td>1924.000000</td>\n",
       "      <td>44.000000</td>\n",
       "      <td>1310.000000</td>\n",
       "      <td>3770.000000</td>\n",
       "      <td>39.000000</td>\n",
       "    </tr>\n",
       "  </tbody>\n",
       "</table>\n",
       "</div>"
      ],
      "text/plain": [
       "               YOB   Start No.        Swim          T1         Bike  \\\n",
       "count   394.000000  394.000000  394.000000  394.000000   394.000000   \n",
       "mean   1995.720812   29.652284  539.954315   57.119289  1719.614213   \n",
       "std       3.422456   17.432484   19.603914   23.718525    75.842266   \n",
       "min    1986.000000    1.000000  482.000000   28.000000  1565.000000   \n",
       "25%    1994.000000   15.000000  531.250000   36.250000  1657.250000   \n",
       "50%    1996.000000   29.500000  541.000000   57.000000  1732.000000   \n",
       "75%    1998.000000   44.750000  554.000000   73.000000  1756.000000   \n",
       "max    2005.000000   64.000000  580.000000  111.000000  1924.000000   \n",
       "\n",
       "               T2          Run   Total_Time         Age  \n",
       "count  394.000000   394.000000   394.000000  394.000000  \n",
       "mean    26.121827   931.994924  3273.266497   29.279188  \n",
       "std      6.023734    56.605370   111.737959    3.422456  \n",
       "min     17.000000   820.000000  3003.000000   20.000000  \n",
       "25%     22.000000   895.000000  3218.000000   27.000000  \n",
       "50%     23.000000   922.000000  3261.500000   29.000000  \n",
       "75%     31.750000   956.000000  3324.750000   31.000000  \n",
       "max     44.000000  1310.000000  3770.000000   39.000000  "
      ]
     },
     "execution_count": 309,
     "metadata": {},
     "output_type": "execute_result"
    }
   ],
   "source": [
    "df[df.Gender == 'Male'].describe()"
   ]
  },
  {
   "cell_type": "code",
   "execution_count": 310,
   "metadata": {},
   "outputs": [
    {
     "data": {
      "text/html": [
       "<div>\n",
       "<style scoped>\n",
       "    .dataframe tbody tr th:only-of-type {\n",
       "        vertical-align: middle;\n",
       "    }\n",
       "\n",
       "    .dataframe tbody tr th {\n",
       "        vertical-align: top;\n",
       "    }\n",
       "\n",
       "    .dataframe thead th {\n",
       "        text-align: right;\n",
       "    }\n",
       "</style>\n",
       "<table border=\"1\" class=\"dataframe\">\n",
       "  <thead>\n",
       "    <tr style=\"text-align: right;\">\n",
       "      <th></th>\n",
       "      <th>YOB</th>\n",
       "      <th>Start No.</th>\n",
       "      <th>Swim</th>\n",
       "      <th>T1</th>\n",
       "      <th>Bike</th>\n",
       "      <th>T2</th>\n",
       "      <th>Run</th>\n",
       "      <th>Total_Time</th>\n",
       "      <th>Age</th>\n",
       "    </tr>\n",
       "  </thead>\n",
       "  <tbody>\n",
       "    <tr>\n",
       "      <th>count</th>\n",
       "      <td>384.000000</td>\n",
       "      <td>384.000000</td>\n",
       "      <td>384.000000</td>\n",
       "      <td>384.000000</td>\n",
       "      <td>384.000000</td>\n",
       "      <td>384.000000</td>\n",
       "      <td>384.000000</td>\n",
       "      <td>384.000000</td>\n",
       "      <td>384.000000</td>\n",
       "    </tr>\n",
       "    <tr>\n",
       "      <th>mean</th>\n",
       "      <td>1995.052083</td>\n",
       "      <td>28.190104</td>\n",
       "      <td>586.979167</td>\n",
       "      <td>62.140625</td>\n",
       "      <td>1887.315104</td>\n",
       "      <td>28.164062</td>\n",
       "      <td>1041.773438</td>\n",
       "      <td>3604.716146</td>\n",
       "      <td>29.947917</td>\n",
       "    </tr>\n",
       "    <tr>\n",
       "      <th>std</th>\n",
       "      <td>3.923870</td>\n",
       "      <td>16.048484</td>\n",
       "      <td>23.578093</td>\n",
       "      <td>26.685696</td>\n",
       "      <td>93.522325</td>\n",
       "      <td>6.040910</td>\n",
       "      <td>46.645132</td>\n",
       "      <td>121.256434</td>\n",
       "      <td>3.923870</td>\n",
       "    </tr>\n",
       "    <tr>\n",
       "      <th>min</th>\n",
       "      <td>1982.000000</td>\n",
       "      <td>1.000000</td>\n",
       "      <td>528.000000</td>\n",
       "      <td>29.000000</td>\n",
       "      <td>1690.000000</td>\n",
       "      <td>20.000000</td>\n",
       "      <td>920.000000</td>\n",
       "      <td>3319.000000</td>\n",
       "      <td>21.000000</td>\n",
       "    </tr>\n",
       "    <tr>\n",
       "      <th>25%</th>\n",
       "      <td>1992.000000</td>\n",
       "      <td>15.000000</td>\n",
       "      <td>569.000000</td>\n",
       "      <td>39.000000</td>\n",
       "      <td>1813.000000</td>\n",
       "      <td>24.000000</td>\n",
       "      <td>1011.750000</td>\n",
       "      <td>3533.750000</td>\n",
       "      <td>27.000000</td>\n",
       "    </tr>\n",
       "    <tr>\n",
       "      <th>50%</th>\n",
       "      <td>1995.000000</td>\n",
       "      <td>28.000000</td>\n",
       "      <td>590.000000</td>\n",
       "      <td>61.500000</td>\n",
       "      <td>1894.000000</td>\n",
       "      <td>26.000000</td>\n",
       "      <td>1035.000000</td>\n",
       "      <td>3596.500000</td>\n",
       "      <td>30.000000</td>\n",
       "    </tr>\n",
       "    <tr>\n",
       "      <th>75%</th>\n",
       "      <td>1998.000000</td>\n",
       "      <td>42.000000</td>\n",
       "      <td>604.000000</td>\n",
       "      <td>80.250000</td>\n",
       "      <td>1955.250000</td>\n",
       "      <td>33.250000</td>\n",
       "      <td>1070.000000</td>\n",
       "      <td>3676.000000</td>\n",
       "      <td>33.000000</td>\n",
       "    </tr>\n",
       "    <tr>\n",
       "      <th>max</th>\n",
       "      <td>2004.000000</td>\n",
       "      <td>61.000000</td>\n",
       "      <td>647.000000</td>\n",
       "      <td>132.000000</td>\n",
       "      <td>2192.000000</td>\n",
       "      <td>46.000000</td>\n",
       "      <td>1239.000000</td>\n",
       "      <td>4026.000000</td>\n",
       "      <td>43.000000</td>\n",
       "    </tr>\n",
       "  </tbody>\n",
       "</table>\n",
       "</div>"
      ],
      "text/plain": [
       "               YOB   Start No.        Swim          T1         Bike  \\\n",
       "count   384.000000  384.000000  384.000000  384.000000   384.000000   \n",
       "mean   1995.052083   28.190104  586.979167   62.140625  1887.315104   \n",
       "std       3.923870   16.048484   23.578093   26.685696    93.522325   \n",
       "min    1982.000000    1.000000  528.000000   29.000000  1690.000000   \n",
       "25%    1992.000000   15.000000  569.000000   39.000000  1813.000000   \n",
       "50%    1995.000000   28.000000  590.000000   61.500000  1894.000000   \n",
       "75%    1998.000000   42.000000  604.000000   80.250000  1955.250000   \n",
       "max    2004.000000   61.000000  647.000000  132.000000  2192.000000   \n",
       "\n",
       "               T2          Run   Total_Time         Age  \n",
       "count  384.000000   384.000000   384.000000  384.000000  \n",
       "mean    28.164062  1041.773438  3604.716146   29.947917  \n",
       "std      6.040910    46.645132   121.256434    3.923870  \n",
       "min     20.000000   920.000000  3319.000000   21.000000  \n",
       "25%     24.000000  1011.750000  3533.750000   27.000000  \n",
       "50%     26.000000  1035.000000  3596.500000   30.000000  \n",
       "75%     33.250000  1070.000000  3676.000000   33.000000  \n",
       "max     46.000000  1239.000000  4026.000000   43.000000  "
      ]
     },
     "execution_count": 310,
     "metadata": {},
     "output_type": "execute_result"
    }
   ],
   "source": [
    "df[df.Gender == 'Female'].describe()"
   ]
  },
  {
   "cell_type": "markdown",
   "metadata": {},
   "source": [
    "### What is the minimum standard?"
   ]
  },
  {
   "cell_type": "markdown",
   "metadata": {},
   "source": [
    "The minimum standard at men's elite level in sprint distance Triathlon is 55.0 mins.\n",
    "You must aim for 9.0 mins over 750m in swimming, 20km in 29.0 mins on the bike,\n",
    "and run 5km in under 16.0 mins.\n",
    "\n",
    "For women, the total to aim for is 61.0 mins:\n",
    "That is 10.0 mins for the swim, 33.0 mins on the bike, and 18.0 mins for the run."
   ]
  },
  {
   "cell_type": "code",
   "execution_count": 311,
   "metadata": {},
   "outputs": [],
   "source": [
    "#seconds to mins\n",
    "def seconds_to_mmss(total_seconds):\n",
    "    minutes = int(total_seconds // 60)\n",
    "    seconds = int(total_seconds % 60)\n",
    "    return f\"{minutes}:{seconds:02}\"\n"
   ]
  },
  {
   "cell_type": "code",
   "execution_count": 312,
   "metadata": {},
   "outputs": [],
   "source": [
    "# Summarize male and female data\n",
    "summaries = {\n",
    "    \"Male\": df[df.Gender == 'Male'].describe(),\n",
    "    \"Female\": df[df.Gender == 'Female'].describe()\n",
    "}\n",
    "\n",
    "# Function to compute and round the 75% values for a given gender\n",
    "def compute_75th_percentiles(summary):\n",
    "    results = {}\n",
    "    for col in ['Swim', 'Bike', 'Run', 'Total_Time']:\n",
    "        results[col] = (summary.loc['75%', col])\n",
    "    return results\n",
    "\n",
    "# Compute percentiles for male and female\n",
    "male_results = compute_75th_percentiles(summaries[\"Male\"])\n",
    "female_results = compute_75th_percentiles(summaries[\"Female\"])\n",
    "\n",
    "# Access results\n",
    "m_75_swim, m_75_bike, m_75_run, m_75_total = (\n",
    "    seconds_to_mmss(male_results['Swim']), \n",
    "    seconds_to_mmss(male_results['Bike']), \n",
    "    seconds_to_mmss(male_results['Run']), \n",
    "    seconds_to_mmss(male_results['Total_Time'])\n",
    ")\n",
    "\n",
    "f_75_swim, f_75_bike, f_75_run, f_75_total = (\n",
    "    seconds_to_mmss(female_results['Swim']), \n",
    "    seconds_to_mmss(female_results['Bike']), \n",
    "    seconds_to_mmss(female_results['Run']), \n",
    "    seconds_to_mmss(female_results['Total_Time'])\n",
    ")\n"
   ]
  },
  {
   "cell_type": "code",
   "execution_count": 313,
   "metadata": {},
   "outputs": [
    {
     "name": "stdout",
     "output_type": "stream",
     "text": [
      "The minimum standard at men's elite level in sprint distance Triathlon is 55:24 mins.\n",
      "You must aim for 9:14 mins over 750m in swimming, 20km in 29:16 mins on the bike,\n",
      "and run 5km in under 15:56 mins.\n",
      "\n",
      "For women, the total to aim for is 61:16 mins:\n",
      "That is 10:04 mins for the swim, 32:35 mins on the bike, and 17:50 mins for the run.\n"
     ]
    }
   ],
   "source": [
    "print(\n",
    "    f\"The minimum standard at men's elite level in sprint distance Triathlon is {m_75_total} mins.\\n\"\n",
    "    f\"You must aim for {m_75_swim} mins over 750m in swimming, 20km in {m_75_bike} mins on the bike,\\n\"\n",
    "    f\"and run 5km in under {m_75_run} mins.\\n\"\n",
    "    f\"\\nFor women, the total to aim for is {f_75_total} mins:\\n\"\n",
    "    f\"That is {f_75_swim} mins for the swim, {f_75_bike} mins on the bike, and {f_75_run} mins for the run.\"\n",
    ")\n"
   ]
  },
  {
   "cell_type": "markdown",
   "metadata": {},
   "source": [
    "### How fast is fast?"
   ]
  },
  {
   "cell_type": "markdown",
   "metadata": {},
   "source": [
    "The highest standard at **men's** elite level in sprint distance triathlon is average 52:50 mins.\n",
    "To win, you must aim for 8:55 mins over 750m in swimming, 20km in 28:16 mins on the bike,\n",
    "and run 5km in under 14:20 mins. For **women**, the total to aim for is 57:52 mins:\n",
    "That is 9:30 mins for the swim, 30:46 mins on the bike, and 16:09 mins for the run."
   ]
  },
  {
   "cell_type": "code",
   "execution_count": 314,
   "metadata": {},
   "outputs": [],
   "source": [
    "position = '1' \n",
    "pos_subset = {\n",
    "    \"Male\": df[(df.Gender == 'Male') & (df.POS == position)].describe(),\n",
    "    \"Female\": df[(df.Gender == 'Female') & (df.POS == position)].describe()\n",
    "}\n",
    "top_men = pos_subset['Male']\n",
    "top_women = pos_subset['Female']\n"
   ]
  },
  {
   "cell_type": "code",
   "execution_count": 315,
   "metadata": {},
   "outputs": [],
   "source": [
    "top_men_swim, top_men_bike, top_men_run, top_men_total = (\n",
    "    seconds_to_mmss(top_men.loc['mean', 'Swim']),\n",
    "    seconds_to_mmss(top_men.loc['mean', 'Bike']),\n",
    "    seconds_to_mmss(top_men.loc['mean', 'Run']),\n",
    "    seconds_to_mmss(top_men.loc['mean', 'Total_Time'])\n",
    ")"
   ]
  },
  {
   "cell_type": "code",
   "execution_count": 316,
   "metadata": {},
   "outputs": [],
   "source": [
    "top_women_swim, top_women_bike, top_women_run, top_women_total = (\n",
    "    seconds_to_mmss(top_women.loc['mean', 'Swim']),\n",
    "    seconds_to_mmss(top_women.loc['mean', 'Bike']),\n",
    "    seconds_to_mmss(top_women.loc['mean', 'Run']),\n",
    "    seconds_to_mmss(top_women.loc['mean', 'Total_Time'])\n",
    ")"
   ]
  },
  {
   "cell_type": "code",
   "execution_count": 317,
   "metadata": {},
   "outputs": [
    {
     "name": "stdout",
     "output_type": "stream",
     "text": [
      "The highest standard at men's elite level in sprint distance Triathlon is 52:50 mins.\n",
      "To win, you must aim for 8:55 mins over 750m in swimming, 20km in 28:16 mins on the bike,\n",
      "and run 5km in under 14:20 mins.\n",
      "\n",
      "For women, the total to aim for is 57:52 mins:\n",
      "That is 9:30 mins for the swim, 30:46 mins on the bike, and 16:09 mins for the run.\n"
     ]
    }
   ],
   "source": [
    "print(\n",
    "    f\"The highest standard at men's elite level in sprint distance Triathlon is {top_men_total} mins.\\n\"\n",
    "    f\"To win, you must aim for {top_men_swim} mins over 750m in swimming, 20km in {top_men_bike} mins on the bike,\\n\"\n",
    "    f\"and run 5km in under {top_men_run} mins.\\n\"\n",
    "    f\"\\nFor women, the total to aim for is {top_women_total} mins:\\n\"\n",
    "    f\"That is {top_women_swim} mins for the swim, {top_women_bike} mins on the bike, and {top_women_run} mins for the run.\"\n",
    ")"
   ]
  },
  {
   "cell_type": "markdown",
   "metadata": {},
   "source": [
    "### How are the times distributed?"
   ]
  },
  {
   "cell_type": "markdown",
   "metadata": {},
   "source": [
    "Distribution of Total_Time has a long tail in women's races. The faster female athletes are in a league of their own and there is a broader spread of slower athletes. In contrast, male races have a more standard distribution, with the fastest and slowest being similarly rare. Male races are more competitive. Regardless of gender, the run is the most competitive part of the race with a high concentration of athletes performing at the fastest times. "
   ]
  },
  {
   "cell_type": "code",
   "execution_count": 318,
   "metadata": {},
   "outputs": [],
   "source": [
    "import seaborn as sns\n",
    "import matplotlib.pyplot as plt\n",
    "import matplotlib.ticker as ticker"
   ]
  },
  {
   "cell_type": "code",
   "execution_count": 381,
   "metadata": {},
   "outputs": [
    {
     "data": {
      "image/png": "[encoded data removed]",
      "text/plain": [
       "<Figure size 1500x1000 with 6 Axes>"
      ]
     },
     "metadata": {},
     "output_type": "display_data"
    }
   ],
   "source": [
    "fig, axes = plt.subplots(2, 3, figsize=(15, 10))\n",
    "axes = axes.flatten()\n",
    "columns = ['Swim', 'T1', 'Bike', 'T2', 'Run', 'Total_Time']\n",
    "\n",
    "def seconds_to_minutes_seconds(x, pos):\n",
    "    minutes = x // 60  # Integer division to get minutes\n",
    "    seconds = x % 60   # Modulus to get the remaining seconds\n",
    "    return f'{int(minutes)}:{int(seconds):02d}'\n",
    "\n",
    "formatter = ticker.FuncFormatter(seconds_to_minutes_seconds)\n",
    "\n",
    "for ax, col in zip(axes, columns):\n",
    "    sns.histplot(data=df[df['Gender'] == 'Male'], x=col, ax=ax, fill=True, bins=20, color='blue', alpha=0.5, label='Male')\n",
    "    sns.histplot(data=df[df['Gender'] == 'Female'], x=col, ax=ax, fill=True, bins=20, color='pink', alpha=0.5, label='Female')\n",
    "    ax.set_title(f'Distribution of {col.capitalize()}', fontsize=12)\n",
    "    ax.legend()\n",
    "    ax.xaxis.set_major_formatter(formatter)  # Apply the formatter to the x-axis\n",
    "\n",
    "plt.tight_layout()\n",
    "plt.show()\n"
   ]
  },
  {
   "cell_type": "markdown",
   "metadata": {},
   "source": [
    "### Which is the fastest country?"
   ]
  },
  {
   "cell_type": "markdown",
   "metadata": {},
   "source": [
    "The fastest country in terms of average total time is France for males, and Great Britain for females. As previously observed, there is also much less variation in performance in the male field, making it more competitive."
   ]
  },
  {
   "cell_type": "markdown",
   "metadata": {},
   "source": [
    "#### But the number of participants per nation is not equal. So This is not truly representative.\n",
    "\n",
    "**Weighted Average** will remedy this fault, though.\n",
    "Weighted Average = sum(n.participants * average_time) / sum(n.participants)"
   ]
  },
  {
   "cell_type": "code",
   "execution_count": 515,
   "metadata": {},
   "outputs": [
    {
     "name": "stdout",
     "output_type": "stream",
     "text": [
      "               Average_Time  Num_Participants\n",
      "Nation Gender                                \n",
      "FRA    Male          3194.0                26\n",
      "POR    Male          3224.0                15\n",
      "MAR    Male          3239.0                 4\n",
      "HUN    Male          3246.0                24\n",
      "GER    Male          3255.0                40\n",
      "JPN    Male          3262.0                25\n",
      "NZL    Male          3263.0                20\n",
      "CAN    Male          3264.0                13\n",
      "ITA    Male          3268.0                12\n",
      "AUS    Male          3270.0                26\n",
      "GBR    Male          3272.0                17\n",
      "SUI    Male          3272.0                16\n",
      "AUT    Male          3272.0                11\n",
      "RSA    Male          3274.0                 6\n",
      "BEL    Male          3278.0                17\n",
      "DEN    Male          3281.0                 6\n",
      "NOR    Male          3282.0                14\n",
      "USA    Male          3288.0                20\n",
      "ESP    Male          3290.0                24\n",
      "LUX    Male          3296.0                 4\n",
      "CZE    Male          3317.0                 4\n",
      "BRA    Male          3324.0                13\n",
      "NED    Male          3335.0                14\n",
      "MEX    Male          3360.0                 5\n",
      "GBR    Female        3508.0                32\n",
      "BER    Female        3528.0                 4\n",
      "FRA    Female        3538.0                18\n",
      "GER    Female        3547.0                42\n",
      "USA    Female        3557.0                34\n",
      "NED    Female        3584.0                16\n",
      "MEX    Female        3604.0                 6\n",
      "NZL    Female        3609.0                16\n",
      "ITA    Female        3610.0                15\n",
      "SUI    Female        3612.0                13\n",
      "ESP    Female        3617.0                19\n",
      "AUS    Female        3617.0                28\n",
      "AUT    Female        3620.0                 9\n",
      "DEN    Female        3623.0                 7\n",
      "HUN    Female        3625.0                 7\n",
      "BEL    Female        3638.0                13\n",
      "POL    Female        3638.0                10\n",
      "POR    Female        3653.0                10\n",
      "BRA    Female        3660.0                14\n",
      "CAN    Female        3671.0                 9\n",
      "JPN    Female        3676.0                20\n",
      "NOR    Female        3677.0                 7\n",
      "CZE    Female        3752.0                10\n",
      "RSA    Female        3754.0                 7\n"
     ]
    }
   ],
   "source": [
    "avg_times = df.groupby(['Nation', 'Gender']).agg(\n",
    "    Average_Time = ('Total_Time', 'mean'),\n",
    "    Num_Participants = ('Total_Time', 'size'),\n",
    ").sort_values(by='Average_Time', ascending=True)\n",
    "\n",
    "#excludes Ireland which only has one athlete and skews the results.\n",
    "avg_times=avg_times[avg_times['Num_Participants']>3]\n",
    "\n",
    "#round the mean\n",
    "avg_times['Average_Time']=avg_times['Average_Time'].round()\n",
    "\n",
    "\n"
   ]
  },
  {
   "cell_type": "code",
   "execution_count": 512,
   "metadata": {},
   "outputs": [
    {
     "data": {
      "image/png": "[encoded data removed]",
      "text/plain": [
       "<Figure size 1200x600 with 1 Axes>"
      ]
     },
     "metadata": {},
     "output_type": "display_data"
    }
   ],
   "source": [
    "#Average Total Race Time by Country and Gender, Ascending \n",
    "\n",
    "sns.set_style('whitegrid')\n",
    "plt.figure(figsize=(12,6))\n",
    "sns.barplot(data=avg_times.reset_index().sort_values(by='Average_Time', ascending=True),\n",
    "            x='Nation',\n",
    "            y='Average_Time',\n",
    "            hue='Gender')\n",
    "plt.xticks(rotation=45)\n",
    "plt.ylim(avg_times['Average_Time'].min()-100,\n",
    "         avg_times['Average_Time'].max()+10) #padding on axis limits\n",
    "plt.gca().yaxis.set_major_formatter(formatter) #change labels to minutes equivalent\n",
    "plt.title('Average Total Race Time by Country and Gender')\n",
    "plt.show()"
   ]
  },
  {
   "cell_type": "code",
   "execution_count": 533,
   "metadata": {},
   "outputs": [
    {
     "data": {
      "image/png": "[encoded data removed]",
      "text/plain": [
       "<Figure size 1400x600 with 2 Axes>"
      ]
     },
     "metadata": {},
     "output_type": "display_data"
    }
   ],
   "source": [
    "# Reset index to make 'Gender' a column again\n",
    "avg_times_reset = avg_times.reset_index()\n",
    "\n",
    "# Filter the data into separate DataFrames for males and females\n",
    "males_data = avg_times_reset[avg_times_reset['Gender'] == 'Male']\n",
    "females_data = avg_times_reset[avg_times_reset['Gender'] == 'Female']\n",
    "\n",
    "# Create the subplots (2 subplots in a row)\n",
    "fig, axes = plt.subplots(1, 2, figsize=(14, 6))\n",
    "\n",
    "# Create the barplot for males on the first subplot\n",
    "sns.barplot(x='Average_Time', y='Nation', data=males_data, ax=axes[0])\n",
    "axes[0].set_title('Average Sprint Distance Triathlon Time for Elite Males by Nation')\n",
    "axes[0].set_xlabel('Average Time (min:sec)')\n",
    "axes[0].set_ylabel('Nation')\n",
    "axes[0].xaxis.set_major_formatter(formatter)\n",
    "axes[0].set_xlim(males_data['Average_Time'].min() - 10, \n",
    "                 males_data['Average_Time'].max() + 10)\n",
    "\n",
    "\n",
    "# Create the barplot for females on the second subplot\n",
    "sns.barplot(x='Average_Time', y='Nation', data=females_data, ax=axes[1], color='orange')\n",
    "axes[1].set_title('Average Sprint Distance Triathlon Time for Elite Females by Nation')\n",
    "axes[1].set_xlabel('Average Time (min:sec)')\n",
    "axes[1].set_ylabel('Nation')\n",
    "axes[1].xaxis.set_major_formatter(formatter)\n",
    "axes[1].set_xlim(females_data['Average_Time'].min() - 50, \n",
    "                 females_data['Average_Time'].max() + 10)\n",
    "\n",
    "# Adjust layout to make room for titles and labels\n",
    "plt.tight_layout()\n",
    "\n",
    "# Show the plot\n",
    "plt.show()\n"
   ]
  },
  {
   "cell_type": "code",
   "execution_count": 514,
   "metadata": {},
   "outputs": [
    {
     "data": {
      "application/vnd.plotly.v1+json": {
       "config": {
        "plotlyServerURL": "https://plot.ly"
       },
       "data": [
        {
         "alignmentgroup": "True",
         "customdata": [
          [
           26
          ],
          [
           15
          ],
          [
           4
          ],
          [
           24
          ],
          [
           40
          ],
          [
           25
          ],
          [
           20
          ],
          [
           13
          ],
          [
           12
          ],
          [
           26
          ],
          [
           17
          ],
          [
           16
          ],
          [
           11
          ],
          [
           6
          ],
          [
           17
          ],
          [
           6
          ],
          [
           14
          ],
          [
           20
          ],
          [
           24
          ],
          [
           4
          ],
          [
           4
          ],
          [
           13
          ],
          [
           14
          ],
          [
           5
          ]
         ],
         "hovertemplate": "Gender=Male<br>Average_Time=%{text}<br>Num_Participants=%{customdata[0]}<extra></extra>",
         "legendgroup": "Male",
         "marker": {
          "color": "#636efa",
          "pattern": {
           "shape": ""
          }
         },
         "name": "Male",
         "offsetgroup": "Male",
         "orientation": "v",
         "showlegend": true,
         "text": [
          3194,
          3224,
          3239,
          3246,
          3255,
          3262,
          3263,
          3264,
          3268,
          3270,
          3272,
          3272,
          3272,
          3274,
          3278,
          3281,
          3282,
          3288,
          3290,
          3296,
          3317,
          3324,
          3335,
          3360
         ],
         "textposition": "auto",
         "type": "bar",
         "x": [
          "FRA",
          "POR",
          "MAR",
          "HUN",
          "GER",
          "JPN",
          "NZL",
          "CAN",
          "ITA",
          "AUS",
          "GBR",
          "SUI",
          "AUT",
          "RSA",
          "BEL",
          "DEN",
          "NOR",
          "USA",
          "ESP",
          "LUX",
          "CZE",
          "BRA",
          "NED",
          "MEX"
         ],
         "xaxis": "x",
         "y": [
          3194,
          3224,
          3239,
          3246,
          3255,
          3262,
          3263,
          3264,
          3268,
          3270,
          3272,
          3272,
          3272,
          3274,
          3278,
          3281,
          3282,
          3288,
          3290,
          3296,
          3317,
          3324,
          3335,
          3360
         ],
         "yaxis": "y"
        },
        {
         "alignmentgroup": "True",
         "customdata": [
          [
           32
          ],
          [
           4
          ],
          [
           18
          ],
          [
           42
          ],
          [
           34
          ],
          [
           16
          ],
          [
           6
          ],
          [
           16
          ],
          [
           15
          ],
          [
           13
          ],
          [
           19
          ],
          [
           28
          ],
          [
           9
          ],
          [
           7
          ],
          [
           7
          ],
          [
           13
          ],
          [
           10
          ],
          [
           10
          ],
          [
           14
          ],
          [
           9
          ],
          [
           20
          ],
          [
           7
          ],
          [
           10
          ],
          [
           7
          ]
         ],
         "hovertemplate": "Gender=Female<br>Average_Time=%{text}<br>Num_Participants=%{customdata[0]}<extra></extra>",
         "legendgroup": "Female",
         "marker": {
          "color": "#EF553B",
          "pattern": {
           "shape": ""
          }
         },
         "name": "Female",
         "offsetgroup": "Female",
         "orientation": "v",
         "showlegend": true,
         "text": [
          3508,
          3528,
          3538,
          3547,
          3557,
          3584,
          3604,
          3609,
          3610,
          3612,
          3617,
          3617,
          3620,
          3623,
          3625,
          3638,
          3638,
          3653,
          3660,
          3671,
          3676,
          3677,
          3752,
          3754
         ],
         "textposition": "auto",
         "type": "bar",
         "x": [
          "GBR",
          "BER",
          "FRA",
          "GER",
          "USA",
          "NED",
          "MEX",
          "NZL",
          "ITA",
          "SUI",
          "ESP",
          "AUS",
          "AUT",
          "DEN",
          "HUN",
          "BEL",
          "POL",
          "POR",
          "BRA",
          "CAN",
          "JPN",
          "NOR",
          "CZE",
          "RSA"
         ],
         "xaxis": "x",
         "y": [
          3508,
          3528,
          3538,
          3547,
          3557,
          3584,
          3604,
          3609,
          3610,
          3612,
          3617,
          3617,
          3620,
          3623,
          3625,
          3638,
          3638,
          3653,
          3660,
          3671,
          3676,
          3677,
          3752,
          3754
         ],
         "yaxis": "y"
        }
       ],
       "layout": {
        "barmode": "relative",
        "legend": {
         "title": {
          "text": "Gender"
         },
         "tracegroupgap": 0
        },
        "margin": {
         "t": 60
        },
        "template": {
         "data": {
          "bar": [
           {
            "error_x": {
             "color": "#f2f5fa"
            },
            "error_y": {
             "color": "#f2f5fa"
            },
            "marker": {
             "line": {
              "color": "rgb(17,17,17)",
              "width": 0.5
             },
             "pattern": {
              "fillmode": "overlay",
              "size": 10,
              "solidity": 0.2
             }
            },
            "type": "bar"
           }
          ],
          "barpolar": [
           {
            "marker": {
             "line": {
              "color": "rgb(17,17,17)",
              "width": 0.5
             },
             "pattern": {
              "fillmode": "overlay",
              "size": 10,
              "solidity": 0.2
             }
            },
            "type": "barpolar"
           }
          ],
          "carpet": [
           {
            "aaxis": {
             "endlinecolor": "#A2B1C6",
             "gridcolor": "#506784",
             "linecolor": "#506784",
             "minorgridcolor": "#506784",
             "startlinecolor": "#A2B1C6"
            },
            "baxis": {
             "endlinecolor": "#A2B1C6",
             "gridcolor": "#506784",
             "linecolor": "#506784",
             "minorgridcolor": "#506784",
             "startlinecolor": "#A2B1C6"
            },
            "type": "carpet"
           }
          ],
          "choropleth": [
           {
            "colorbar": {
             "outlinewidth": 0,
             "ticks": ""
            },
            "type": "choropleth"
           }
          ],
          "contour": [
           {
            "colorbar": {
             "outlinewidth": 0,
             "ticks": ""
            },
            "colorscale": [
             [
              0,
              "#0d0887"
             ],
             [
              0.1111111111111111,
              "#46039f"
             ],
             [
              0.2222222222222222,
              "#7201a8"
             ],
             [
              0.3333333333333333,
              "#9c179e"
             ],
             [
              0.4444444444444444,
              "#bd3786"
             ],
             [
              0.5555555555555556,
              "#d8576b"
             ],
             [
              0.6666666666666666,
              "#ed7953"
             ],
             [
              0.7777777777777778,
              "#fb9f3a"
             ],
             [
              0.8888888888888888,
              "#fdca26"
             ],
             [
              1,
              "#f0f921"
             ]
            ],
            "type": "contour"
           }
          ],
          "contourcarpet": [
           {
            "colorbar": {
             "outlinewidth": 0,
             "ticks": ""
            },
            "type": "contourcarpet"
           }
          ],
          "heatmap": [
           {
            "colorbar": {
             "outlinewidth": 0,
             "ticks": ""
            },
            "colorscale": [
             [
              0,
              "#0d0887"
             ],
             [
              0.1111111111111111,
              "#46039f"
             ],
             [
              0.2222222222222222,
              "#7201a8"
             ],
             [
              0.3333333333333333,
              "#9c179e"
             ],
             [
              0.4444444444444444,
              "#bd3786"
             ],
             [
              0.5555555555555556,
              "#d8576b"
             ],
             [
              0.6666666666666666,
              "#ed7953"
             ],
             [
              0.7777777777777778,
              "#fb9f3a"
             ],
             [
              0.8888888888888888,
              "#fdca26"
             ],
             [
              1,
              "#f0f921"
             ]
            ],
            "type": "heatmap"
           }
          ],
          "heatmapgl": [
           {
            "colorbar": {
             "outlinewidth": 0,
             "ticks": ""
            },
            "colorscale": [
             [
              0,
              "#0d0887"
             ],
             [
              0.1111111111111111,
              "#46039f"
             ],
             [
              0.2222222222222222,
              "#7201a8"
             ],
             [
              0.3333333333333333,
              "#9c179e"
             ],
             [
              0.4444444444444444,
              "#bd3786"
             ],
             [
              0.5555555555555556,
              "#d8576b"
             ],
             [
              0.6666666666666666,
              "#ed7953"
             ],
             [
              0.7777777777777778,
              "#fb9f3a"
             ],
             [
              0.8888888888888888,
              "#fdca26"
             ],
             [
              1,
              "#f0f921"
             ]
            ],
            "type": "heatmapgl"
           }
          ],
          "histogram": [
           {
            "marker": {
             "pattern": {
              "fillmode": "overlay",
              "size": 10,
              "solidity": 0.2
             }
            },
            "type": "histogram"
           }
          ],
          "histogram2d": [
           {
            "colorbar": {
             "outlinewidth": 0,
             "ticks": ""
            },
            "colorscale": [
             [
              0,
              "#0d0887"
             ],
             [
              0.1111111111111111,
              "#46039f"
             ],
             [
              0.2222222222222222,
              "#7201a8"
             ],
             [
              0.3333333333333333,
              "#9c179e"
             ],
             [
              0.4444444444444444,
              "#bd3786"
             ],
             [
              0.5555555555555556,
              "#d8576b"
             ],
             [
              0.6666666666666666,
              "#ed7953"
             ],
             [
              0.7777777777777778,
              "#fb9f3a"
             ],
             [
              0.8888888888888888,
              "#fdca26"
             ],
             [
              1,
              "#f0f921"
             ]
            ],
            "type": "histogram2d"
           }
          ],
          "histogram2dcontour": [
           {
            "colorbar": {
             "outlinewidth": 0,
             "ticks": ""
            },
            "colorscale": [
             [
              0,
              "#0d0887"
             ],
             [
              0.1111111111111111,
              "#46039f"
             ],
             [
              0.2222222222222222,
              "#7201a8"
             ],
             [
              0.3333333333333333,
              "#9c179e"
             ],
             [
              0.4444444444444444,
              "#bd3786"
             ],
             [
              0.5555555555555556,
              "#d8576b"
             ],
             [
              0.6666666666666666,
              "#ed7953"
             ],
             [
              0.7777777777777778,
              "#fb9f3a"
             ],
             [
              0.8888888888888888,
              "#fdca26"
             ],
             [
              1,
              "#f0f921"
             ]
            ],
            "type": "histogram2dcontour"
           }
          ],
          "mesh3d": [
           {
            "colorbar": {
             "outlinewidth": 0,
             "ticks": ""
            },
            "type": "mesh3d"
           }
          ],
          "parcoords": [
           {
            "line": {
             "colorbar": {
              "outlinewidth": 0,
              "ticks": ""
             }
            },
            "type": "parcoords"
           }
          ],
          "pie": [
           {
            "automargin": true,
            "type": "pie"
           }
          ],
          "scatter": [
           {
            "marker": {
             "line": {
              "color": "#283442"
             }
            },
            "type": "scatter"
           }
          ],
          "scatter3d": [
           {
            "line": {
             "colorbar": {
              "outlinewidth": 0,
              "ticks": ""
             }
            },
            "marker": {
             "colorbar": {
              "outlinewidth": 0,
              "ticks": ""
             }
            },
            "type": "scatter3d"
           }
          ],
          "scattercarpet": [
           {
            "marker": {
             "colorbar": {
              "outlinewidth": 0,
              "ticks": ""
             }
            },
            "type": "scattercarpet"
           }
          ],
          "scattergeo": [
           {
            "marker": {
             "colorbar": {
              "outlinewidth": 0,
              "ticks": ""
             }
            },
            "type": "scattergeo"
           }
          ],
          "scattergl": [
           {
            "marker": {
             "line": {
              "color": "#283442"
             }
            },
            "type": "scattergl"
           }
          ],
          "scattermapbox": [
           {
            "marker": {
             "colorbar": {
              "outlinewidth": 0,
              "ticks": ""
             }
            },
            "type": "scattermapbox"
           }
          ],
          "scatterpolar": [
           {
            "marker": {
             "colorbar": {
              "outlinewidth": 0,
              "ticks": ""
             }
            },
            "type": "scatterpolar"
           }
          ],
          "scatterpolargl": [
           {
            "marker": {
             "colorbar": {
              "outlinewidth": 0,
              "ticks": ""
             }
            },
            "type": "scatterpolargl"
           }
          ],
          "scatterternary": [
           {
            "marker": {
             "colorbar": {
              "outlinewidth": 0,
              "ticks": ""
             }
            },
            "type": "scatterternary"
           }
          ],
          "surface": [
           {
            "colorbar": {
             "outlinewidth": 0,
             "ticks": ""
            },
            "colorscale": [
             [
              0,
              "#0d0887"
             ],
             [
              0.1111111111111111,
              "#46039f"
             ],
             [
              0.2222222222222222,
              "#7201a8"
             ],
             [
              0.3333333333333333,
              "#9c179e"
             ],
             [
              0.4444444444444444,
              "#bd3786"
             ],
             [
              0.5555555555555556,
              "#d8576b"
             ],
             [
              0.6666666666666666,
              "#ed7953"
             ],
             [
              0.7777777777777778,
              "#fb9f3a"
             ],
             [
              0.8888888888888888,
              "#fdca26"
             ],
             [
              1,
              "#f0f921"
             ]
            ],
            "type": "surface"
           }
          ],
          "table": [
           {
            "cells": {
             "fill": {
              "color": "#506784"
             },
             "line": {
              "color": "rgb(17,17,17)"
             }
            },
            "header": {
             "fill": {
              "color": "#2a3f5f"
             },
             "line": {
              "color": "rgb(17,17,17)"
             }
            },
            "type": "table"
           }
          ]
         },
         "layout": {
          "annotationdefaults": {
           "arrowcolor": "#f2f5fa",
           "arrowhead": 0,
           "arrowwidth": 1
          },
          "autotypenumbers": "strict",
          "coloraxis": {
           "colorbar": {
            "outlinewidth": 0,
            "ticks": ""
           }
          },
          "colorscale": {
           "diverging": [
            [
             0,
             "#8e0152"
            ],
            [
             0.1,
             "#c51b7d"
            ],
            [
             0.2,
             "#de77ae"
            ],
            [
             0.3,
             "#f1b6da"
            ],
            [
             0.4,
             "#fde0ef"
            ],
            [
             0.5,
             "#f7f7f7"
            ],
            [
             0.6,
             "#e6f5d0"
            ],
            [
             0.7,
             "#b8e186"
            ],
            [
             0.8,
             "#7fbc41"
            ],
            [
             0.9,
             "#4d9221"
            ],
            [
             1,
             "#276419"
            ]
           ],
           "sequential": [
            [
             0,
             "#0d0887"
            ],
            [
             0.1111111111111111,
             "#46039f"
            ],
            [
             0.2222222222222222,
             "#7201a8"
            ],
            [
             0.3333333333333333,
             "#9c179e"
            ],
            [
             0.4444444444444444,
             "#bd3786"
            ],
            [
             0.5555555555555556,
             "#d8576b"
            ],
            [
             0.6666666666666666,
             "#ed7953"
            ],
            [
             0.7777777777777778,
             "#fb9f3a"
            ],
            [
             0.8888888888888888,
             "#fdca26"
            ],
            [
             1,
             "#f0f921"
            ]
           ],
           "sequentialminus": [
            [
             0,
             "#0d0887"
            ],
            [
             0.1111111111111111,
             "#46039f"
            ],
            [
             0.2222222222222222,
             "#7201a8"
            ],
            [
             0.3333333333333333,
             "#9c179e"
            ],
            [
             0.4444444444444444,
             "#bd3786"
            ],
            [
             0.5555555555555556,
             "#d8576b"
            ],
            [
             0.6666666666666666,
             "#ed7953"
            ],
            [
             0.7777777777777778,
             "#fb9f3a"
            ],
            [
             0.8888888888888888,
             "#fdca26"
            ],
            [
             1,
             "#f0f921"
            ]
           ]
          },
          "colorway": [
           "#636efa",
           "#EF553B",
           "#00cc96",
           "#ab63fa",
           "#FFA15A",
           "#19d3f3",
           "#FF6692",
           "#B6E880",
           "#FF97FF",
           "#FECB52"
          ],
          "font": {
           "color": "#f2f5fa"
          },
          "geo": {
           "bgcolor": "rgb(17,17,17)",
           "lakecolor": "rgb(17,17,17)",
           "landcolor": "rgb(17,17,17)",
           "showlakes": true,
           "showland": true,
           "subunitcolor": "#506784"
          },
          "hoverlabel": {
           "align": "left"
          },
          "hovermode": "closest",
          "mapbox": {
           "style": "dark"
          },
          "paper_bgcolor": "rgb(17,17,17)",
          "plot_bgcolor": "rgb(17,17,17)",
          "polar": {
           "angularaxis": {
            "gridcolor": "#506784",
            "linecolor": "#506784",
            "ticks": ""
           },
           "bgcolor": "rgb(17,17,17)",
           "radialaxis": {
            "gridcolor": "#506784",
            "linecolor": "#506784",
            "ticks": ""
           }
          },
          "scene": {
           "xaxis": {
            "backgroundcolor": "rgb(17,17,17)",
            "gridcolor": "#506784",
            "gridwidth": 2,
            "linecolor": "#506784",
            "showbackground": true,
            "ticks": "",
            "zerolinecolor": "#C8D4E3"
           },
           "yaxis": {
            "backgroundcolor": "rgb(17,17,17)",
            "gridcolor": "#506784",
            "gridwidth": 2,
            "linecolor": "#506784",
            "showbackground": true,
            "ticks": "",
            "zerolinecolor": "#C8D4E3"
           },
           "zaxis": {
            "backgroundcolor": "rgb(17,17,17)",
            "gridcolor": "#506784",
            "gridwidth": 2,
            "linecolor": "#506784",
            "showbackground": true,
            "ticks": "",
            "zerolinecolor": "#C8D4E3"
           }
          },
          "shapedefaults": {
           "line": {
            "color": "#f2f5fa"
           }
          },
          "sliderdefaults": {
           "bgcolor": "#C8D4E3",
           "bordercolor": "rgb(17,17,17)",
           "borderwidth": 1,
           "tickwidth": 0
          },
          "ternary": {
           "aaxis": {
            "gridcolor": "#506784",
            "linecolor": "#506784",
            "ticks": ""
           },
           "baxis": {
            "gridcolor": "#506784",
            "linecolor": "#506784",
            "ticks": ""
           },
           "bgcolor": "rgb(17,17,17)",
           "caxis": {
            "gridcolor": "#506784",
            "linecolor": "#506784",
            "ticks": ""
           }
          },
          "title": {
           "x": 0.05
          },
          "updatemenudefaults": {
           "bgcolor": "#506784",
           "borderwidth": 0
          },
          "xaxis": {
           "automargin": true,
           "gridcolor": "#283442",
           "linecolor": "#506784",
           "ticks": "",
           "title": {
            "standoff": 15
           },
           "zerolinecolor": "#283442",
           "zerolinewidth": 2
          },
          "yaxis": {
           "automargin": true,
           "gridcolor": "#283442",
           "linecolor": "#506784",
           "ticks": "",
           "title": {
            "standoff": 15
           },
           "zerolinecolor": "#283442",
           "zerolinewidth": 2
          }
         }
        },
        "title": {
         "text": "Average Time by Nation and Gender"
        },
        "xaxis": {
         "anchor": "y",
         "domain": [
          0,
          1
         ],
         "title": {
          "text": "Nation"
         }
        },
        "yaxis": {
         "anchor": "x",
         "domain": [
          0,
          1
         ],
         "title": {
          "text": "Average Time"
         }
        }
       }
      }
     },
     "metadata": {},
     "output_type": "display_data"
    }
   ],
   "source": [
    "#more interactive visual with hover labels\n",
    "import plotly.express as px\n",
    "\n",
    "# Create an interactive barplot\n",
    "fig = px.bar(\n",
    "    avg_times.reset_index(),\n",
    "    x='Nation',\n",
    "    y='Average_Time',\n",
    "    color='Gender',\n",
    "    text='Average_Time',  # Optional: Show the average time directly on bars\n",
    "    hover_data={'Average_Time': True, 'Num_Participants': True, 'Nation': False}\n",
    ")\n",
    "\n",
    "# Update layout for better appearance\n",
    "fig.update_layout(\n",
    "    title=\"Average Time by Nation and Gender\",\n",
    "    xaxis_title=\"Nation\",\n",
    "    yaxis_title=\"Average Time\",\n",
    "    legend_title=\"Gender\",\n",
    "    template=\"plotly_dark\",  # Optional for a dark theme\n",
    ")\n",
    "\n",
    "# Show the figure\n",
    "fig.show()"
   ]
  },
  {
   "cell_type": "markdown",
   "metadata": {},
   "source": [
    "### Which are the best all-rounders?"
   ]
  },
  {
   "cell_type": "markdown",
   "metadata": {},
   "source": [
    "An all-rounder is an athlete who performs consistently well across all disciplines. This means that they have a low standard deviation across all disciplines, compared to other athletes. "
   ]
  }
 ],
 "metadata": {
  "kernelspec": {
   "display_name": "base",
   "language": "python",
   "name": "python3"
  },
  "language_info": {
   "codemirror_mode": {
    "name": "ipython",
    "version": 3
   },
   "file_extension": ".py",
   "mimetype": "text/x-python",
   "name": "python",
   "nbconvert_exporter": "python",
   "pygments_lexer": "ipython3",
   "version": "3.12.4"
  }
 },
 "nbformat": 4,
 "nbformat_minor": 2
}
